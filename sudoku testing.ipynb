{
 "cells": [
  {
   "cell_type": "code",
   "execution_count": 13,
   "metadata": {},
   "outputs": [],
   "source": [
    "%matplotlib inline"
   ]
  },
  {
   "cell_type": "code",
   "execution_count": 14,
   "metadata": {},
   "outputs": [],
   "source": [
    "import cv2\n",
    "import numpy as np\n",
    "import keras\n",
    "from keras.models import Sequential\n",
    "from keras.layers import Dense, Dropout, Flatten\n",
    "from keras.layers import Conv2D, MaxPooling2D\n",
    "from keras import backend as K\n",
    "\n",
    "import import_ipynb\n",
    "%run RealTimeSudokuSolver.ipynb\n",
    "%run sudokuSolver.ipynb\n",
    "\n",
    "from scipy import ndimage\n",
    "import math\n",
    "\n",
    "import copy\n"
   ]
  },
  {
   "cell_type": "code",
   "execution_count": 15,
   "metadata": {},
   "outputs": [],
   "source": [
    "\n",
    "def showImage(img, name, width, height):\n",
    "    new_image = np.copy(img)\n",
    "    new_image = cv2.resize(new_image, (width, height))\n",
    "    cv2.imshow(name, new_image)\n",
    "\n",
    "# Load and set up Camera\n",
    "cap = cv2.VideoCapture(0, cv2.CAP_DSHOW)\n",
    "cap.set(3, 1280)    # HD Camera \n",
    "cap.set(4, 720)\n",
    "\n",
    "# Loading model (Load weights and configuration seperately to speed up model and predictions)\n",
    "input_shape = (28, 28, 1)\n",
    "num_classes = 9\n",
    "model = Sequential()\n",
    "model.add(Conv2D(32, kernel_size=(3, 3),\n",
    "                 activation='relu',\n",
    "                 input_shape=input_shape))\n",
    "model.add(Conv2D(64, (3, 3), activation='relu'))\n",
    "model.add(MaxPooling2D(pool_size=(2, 2)))\n",
    "model.add(Dropout(0.25))\n",
    "model.add(Flatten())\n",
    "model.add(Dense(128, activation='relu'))\n",
    "model.add(Dropout(0.5))\n",
    "model.add(Dense(num_classes, activation='softmax'))\n",
    "\n",
    "# Load weights from pre-trained model. This model is trained in digitRecognition.h5\n",
    "model.load_weights(\"digitRecognition.h5\")   \n",
    "\n",
    "old_sudoku = None # Used to compare new sudoku or old sudoku\n",
    "while(True):\n",
    "    ret, frame = cap.read() # Read the frame\n",
    "    if ret == True:\n",
    "        \n",
    "        # RealTimeSudokuSolver.recognize_sudoku_and_solve\n",
    "        sudoku_frame = recognize_sudoku_and_solve(frame, model, old_sudoku) \n",
    "        showImage(sudoku_frame, \"Real Time Sudoku Solver\", 1066, 600)\n",
    "        if cv2.waitKey(1) == ord('q'):   # Hit q if you want to stop the camera\n",
    "            break\n",
    "    else:\n",
    "        break\n",
    "\n",
    "cap.release()\n",
    "cv2.destroyAllWindows()"
   ]
  }
 ],
 "metadata": {
  "kernelspec": {
   "name": "python395jvsc74a57bd0511aa68db7cc5b933133cc7e3cd376d8820fc6607e3839c371acee82c0810498",
   "display_name": "Python 3.9.5 64-bit"
  },
  "language_info": {
   "codemirror_mode": {
    "name": "ipython",
    "version": 3
   },
   "file_extension": ".py",
   "mimetype": "text/x-python",
   "name": "python",
   "nbconvert_exporter": "python",
   "pygments_lexer": "ipython3",
   "version": "3.9.5"
  },
  "metadata": {
   "interpreter": {
    "hash": "511aa68db7cc5b933133cc7e3cd376d8820fc6607e3839c371acee82c0810498"
   }
  }
 },
 "nbformat": 4,
 "nbformat_minor": 4
}